{
 "cells": [
  {
   "cell_type": "code",
   "execution_count": 1,
   "metadata": {
    "colab": {},
    "colab_type": "code",
    "id": "zIvRq2BoYq67"
   },
   "outputs": [
    {
     "name": "stderr",
     "output_type": "stream",
     "text": [
      "/usr/local/lib/python3.6/site-packages/h5py/__init__.py:36: FutureWarning: Conversion of the second argument of issubdtype from `float` to `np.floating` is deprecated. In future, it will be treated as `np.float64 == np.dtype(float).type`.\n",
      "  from ._conv import register_converters as _register_converters\n"
     ]
    }
   ],
   "source": [
    "import tensorflow as tf\n",
    "import numpy as np"
   ]
  },
  {
   "cell_type": "code",
   "execution_count": 2,
   "metadata": {
    "colab": {},
    "colab_type": "code",
    "collapsed": true,
    "id": "g0Ndj9_4Zv16"
   },
   "outputs": [],
   "source": [
    "h = [1, 0, 0, 0]\n",
    "e = [0, 1, 0, 0]\n",
    "l = [0, 0, 1, 0]\n",
    "o = [0, 0, 0, 1]"
   ]
  },
  {
   "cell_type": "code",
   "execution_count": 3,
   "metadata": {
    "colab": {},
    "colab_type": "code",
    "collapsed": true,
    "id": "1jKq6kqWY7ip"
   },
   "outputs": [],
   "source": [
    "hidden_size = 2\n",
    "cell = tf.contrib.rnn.BasicLSTMCell(num_units=hidden_size)"
   ]
  },
  {
   "cell_type": "code",
   "execution_count": 4,
   "metadata": {
    "colab": {},
    "colab_type": "code",
    "collapsed": true,
    "id": "MJ7Dg5ZnZJnk"
   },
   "outputs": [],
   "source": [
    "x_data = np.array([[h, e, l, l, o]], dtype=np.float32)\n",
    "outputs, _states = tf.nn.dynamic_rnn(cell, x_data, dtype=tf.float32)"
   ]
  },
  {
   "cell_type": "code",
   "execution_count": 5,
   "metadata": {
    "colab": {
     "base_uri": "https://localhost:8080/",
     "height": 34
    },
    "colab_type": "code",
    "executionInfo": {
     "elapsed": 1057,
     "status": "ok",
     "timestamp": 1534703057136,
     "user": {
      "displayName": "전인아",
      "photoUrl": "//lh3.googleusercontent.com/-61ZAhyAQ1tI/AAAAAAAAAAI/AAAAAAAAAIs/f0doE-9P3hU/s50-c-k-no/photo.jpg",
      "userId": "102290275608340801889"
     },
     "user_tz": -540
    },
    "id": "GHYCx4U0Z-kL",
    "outputId": "638f69e4-099e-4ae7-b43e-52a5be65a0b7"
   },
   "outputs": [
    {
     "name": "stdout",
     "output_type": "stream",
     "text": [
      "(1, 5, 4)\n"
     ]
    }
   ],
   "source": [
    "# batch_size = 1\n",
    "# sequence_length = 5\n",
    "# input vector size = 4\n",
    "print(x_data.shape)"
   ]
  },
  {
   "cell_type": "code",
   "execution_count": 6,
   "metadata": {
    "colab": {
     "base_uri": "https://localhost:8080/",
     "height": 102
    },
    "colab_type": "code",
    "executionInfo": {
     "elapsed": 721,
     "status": "ok",
     "timestamp": 1534702775671,
     "user": {
      "displayName": "전인아",
      "photoUrl": "//lh3.googleusercontent.com/-61ZAhyAQ1tI/AAAAAAAAAAI/AAAAAAAAAIs/f0doE-9P3hU/s50-c-k-no/photo.jpg",
      "userId": "102290275608340801889"
     },
     "user_tz": -540
    },
    "id": "cqnGib9wabwI",
    "outputId": "2a909e51-2ee4-45b6-be25-0692cfc241e6"
   },
   "outputs": [
    {
     "name": "stdout",
     "output_type": "stream",
     "text": [
      "[[[1. 0. 0. 0.]\n",
      "  [0. 1. 0. 0.]\n",
      "  [0. 0. 1. 0.]\n",
      "  [0. 0. 1. 0.]\n",
      "  [0. 0. 0. 1.]]]\n"
     ]
    }
   ],
   "source": [
    "print(x_data)"
   ]
  },
  {
   "cell_type": "code",
   "execution_count": 7,
   "metadata": {
    "colab": {
     "base_uri": "https://localhost:8080/",
     "height": 102
    },
    "colab_type": "code",
    "executionInfo": {
     "elapsed": 778,
     "status": "ok",
     "timestamp": 1534702949394,
     "user": {
      "displayName": "전인아",
      "photoUrl": "//lh3.googleusercontent.com/-61ZAhyAQ1tI/AAAAAAAAAAI/AAAAAAAAAIs/f0doE-9P3hU/s50-c-k-no/photo.jpg",
      "userId": "102290275608340801889"
     },
     "user_tz": -540
    },
    "id": "8p74SbMSaepn",
    "outputId": "246a98b7-8c90-419a-cc0b-553fc4c2f817"
   },
   "outputs": [
    {
     "name": "stdout",
     "output_type": "stream",
     "text": [
      "[[[-0.08262237 -0.0323061 ]\n",
      "  [-0.08040528  0.05663786]\n",
      "  [-0.1610445   0.0717738 ]\n",
      "  [-0.20576255  0.09862032]\n",
      "  [-0.11903277  0.01194292]]]\n"
     ]
    }
   ],
   "source": [
    "with tf.Session() as sess:\n",
    "  sess.run(tf.global_variables_initializer())\n",
    "  print(outputs.eval()) # weights"
   ]
  },
  {
   "cell_type": "code",
   "execution_count": 8,
   "metadata": {
    "colab": {},
    "colab_type": "code",
    "collapsed": true,
    "id": "yOTnYqxwaknk"
   },
   "outputs": [],
   "source": [
    "# batch_size = 3\n",
    "# sequence_length = 5\n",
    "# input vector size = 4"
   ]
  },
  {
   "cell_type": "code",
   "execution_count": 9,
   "metadata": {
    "colab": {},
    "colab_type": "code",
    "collapsed": true,
    "id": "-cMXOU4dansc"
   },
   "outputs": [],
   "source": [
    "x_data = np.array([\n",
    "    [h, e, l, l, o],\n",
    "    [e, o, l, l, l],\n",
    "    [l, l, e, e, l]\n",
    "], dtype=np.float32)"
   ]
  },
  {
   "cell_type": "code",
   "execution_count": 10,
   "metadata": {
    "colab": {
     "base_uri": "https://localhost:8080/",
     "height": 34
    },
    "colab_type": "code",
    "executionInfo": {
     "elapsed": 775,
     "status": "ok",
     "timestamp": 1534703119124,
     "user": {
      "displayName": "전인아",
      "photoUrl": "//lh3.googleusercontent.com/-61ZAhyAQ1tI/AAAAAAAAAAI/AAAAAAAAAIs/f0doE-9P3hU/s50-c-k-no/photo.jpg",
      "userId": "102290275608340801889"
     },
     "user_tz": -540
    },
    "id": "LTqaDbL6bwfo",
    "outputId": "f193c309-1606-4a72-9feb-ecff790e6fde"
   },
   "outputs": [
    {
     "name": "stdout",
     "output_type": "stream",
     "text": [
      "(3, 5, 4)\n"
     ]
    }
   ],
   "source": [
    "print(x_data.shape)"
   ]
  }
 ],
 "metadata": {
  "colab": {
   "name": "Lab12.ipynb",
   "provenance": [],
   "version": "0.3.2"
  },
  "kernelspec": {
   "display_name": "Python 3",
   "language": "python",
   "name": "python3"
  },
  "language_info": {
   "codemirror_mode": {
    "name": "ipython",
    "version": 3
   },
   "file_extension": ".py",
   "mimetype": "text/x-python",
   "name": "python",
   "nbconvert_exporter": "python",
   "pygments_lexer": "ipython3",
   "version": "3.6.5"
  }
 },
 "nbformat": 4,
 "nbformat_minor": 1
}
