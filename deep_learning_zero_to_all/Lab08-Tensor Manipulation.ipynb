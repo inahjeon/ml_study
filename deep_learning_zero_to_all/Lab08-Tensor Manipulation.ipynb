{
 "cells": [
  {
   "cell_type": "code",
   "execution_count": 1,
   "metadata": {
    "colab": {
     "autoexec": {
      "startup": false,
      "wait_interval": 0
     }
    },
    "colab_type": "code",
    "id": "2JEHCkV_RoUd"
   },
   "outputs": [
    {
     "name": "stderr",
     "output_type": "stream",
     "text": [
      "/usr/local/lib/python3.6/site-packages/h5py/__init__.py:36: FutureWarning: Conversion of the second argument of issubdtype from `float` to `np.floating` is deprecated. In future, it will be treated as `np.float64 == np.dtype(float).type`.\n",
      "  from ._conv import register_converters as _register_converters\n"
     ]
    }
   ],
   "source": [
    "import numpy as np\n",
    "import tensorflow as tf"
   ]
  },
  {
   "cell_type": "code",
   "execution_count": 2,
   "metadata": {
    "colab": {
     "autoexec": {
      "startup": false,
      "wait_interval": 0
     },
     "base_uri": "https://localhost:8080/",
     "height": 85
    },
    "colab_type": "code",
    "executionInfo": {
     "elapsed": 651,
     "status": "ok",
     "timestamp": 1531999397499,
     "user": {
      "displayName": "전인아",
      "photoUrl": "//lh3.googleusercontent.com/-61ZAhyAQ1tI/AAAAAAAAAAI/AAAAAAAAAIs/f0doE-9P3hU/s50-c-k-no/photo.jpg",
      "userId": "102290275608340801889"
     },
     "user_tz": -540
    },
    "id": "kAlNcrjTRr2H",
    "outputId": "c7984007-78f9-4813-a4e5-b0009fb0739f"
   },
   "outputs": [
    {
     "name": "stdout",
     "output_type": "stream",
     "text": [
      "1\n",
      "(6,)\n",
      "0.0\n",
      "[2. 3. 4.]\n"
     ]
    }
   ],
   "source": [
    "t = np.array(\n",
    "  [0., 1., 2., 3., 4., 5.,]\n",
    ")\n",
    "print(t.ndim)\n",
    "print(t.shape)\n",
    "print(t[0])\n",
    "print(t[2:5])"
   ]
  },
  {
   "cell_type": "code",
   "execution_count": 3,
   "metadata": {
    "colab": {
     "autoexec": {
      "startup": false,
      "wait_interval": 0
     },
     "base_uri": "https://localhost:8080/",
     "height": 51
    },
    "colab_type": "code",
    "executionInfo": {
     "elapsed": 748,
     "status": "ok",
     "timestamp": 1531999448782,
     "user": {
      "displayName": "전인아",
      "photoUrl": "//lh3.googleusercontent.com/-61ZAhyAQ1tI/AAAAAAAAAAI/AAAAAAAAAIs/f0doE-9P3hU/s50-c-k-no/photo.jpg",
      "userId": "102290275608340801889"
     },
     "user_tz": -540
    },
    "id": "EW_4zqD_R621",
    "outputId": "fb4613a9-28cf-4a0b-80d3-a023eb0c14f2"
   },
   "outputs": [
    {
     "name": "stdout",
     "output_type": "stream",
     "text": [
      "2\n",
      "(4, 3)\n"
     ]
    }
   ],
   "source": [
    "t = np.array(\n",
    "  [[1., 2., 3.], [1., 2., 3.], [1., 2., 3.], [1., 2., 3.]]\n",
    ")\n",
    "print(t.ndim)\n",
    "print(t.shape)"
   ]
  },
  {
   "cell_type": "code",
   "execution_count": 4,
   "metadata": {
    "colab": {
     "autoexec": {
      "startup": false,
      "wait_interval": 0
     }
    },
    "colab_type": "code",
    "collapsed": true,
    "id": "ISGTJobaS9Nf"
   },
   "outputs": [],
   "source": [
    "sess = tf.Session()"
   ]
  },
  {
   "cell_type": "code",
   "execution_count": 5,
   "metadata": {
    "colab": {
     "autoexec": {
      "startup": false,
      "wait_interval": 0
     },
     "base_uri": "https://localhost:8080/",
     "height": 34
    },
    "colab_type": "code",
    "executionInfo": {
     "elapsed": 652,
     "status": "ok",
     "timestamp": 1531999694547,
     "user": {
      "displayName": "전인아",
      "photoUrl": "//lh3.googleusercontent.com/-61ZAhyAQ1tI/AAAAAAAAAAI/AAAAAAAAAIs/f0doE-9P3hU/s50-c-k-no/photo.jpg",
      "userId": "102290275608340801889"
     },
     "user_tz": -540
    },
    "id": "8T-SHj17SHEv",
    "outputId": "4269ab55-a0ae-4a5e-b3c3-5b103fef02e7"
   },
   "outputs": [
    {
     "data": {
      "text/plain": [
       "array([4], dtype=int32)"
      ]
     },
     "execution_count": 5,
     "metadata": {},
     "output_type": "execute_result"
    }
   ],
   "source": [
    "t = tf.constant([1,2,3,4])\n",
    "tf.shape(t).eval(session=sess)"
   ]
  },
  {
   "cell_type": "code",
   "execution_count": 6,
   "metadata": {
    "colab": {
     "autoexec": {
      "startup": false,
      "wait_interval": 0
     },
     "base_uri": "https://localhost:8080/",
     "height": 34
    },
    "colab_type": "code",
    "executionInfo": {
     "elapsed": 606,
     "status": "ok",
     "timestamp": 1531999698569,
     "user": {
      "displayName": "전인아",
      "photoUrl": "//lh3.googleusercontent.com/-61ZAhyAQ1tI/AAAAAAAAAAI/AAAAAAAAAIs/f0doE-9P3hU/s50-c-k-no/photo.jpg",
      "userId": "102290275608340801889"
     },
     "user_tz": -540
    },
    "id": "mEos0T96SL8y",
    "outputId": "a76c7643-f908-46b3-fdd3-fe144e6ce4a5"
   },
   "outputs": [
    {
     "data": {
      "text/plain": [
       "array([2, 2], dtype=int32)"
      ]
     },
     "execution_count": 6,
     "metadata": {},
     "output_type": "execute_result"
    }
   ],
   "source": [
    "t = tf.constant([[1,2],[3,4]])\n",
    "tf.shape(t).eval(session=sess)"
   ]
  },
  {
   "cell_type": "code",
   "execution_count": 7,
   "metadata": {
    "colab": {
     "autoexec": {
      "startup": false,
      "wait_interval": 0
     },
     "base_uri": "https://localhost:8080/",
     "height": 34
    },
    "colab_type": "code",
    "executionInfo": {
     "elapsed": 728,
     "status": "ok",
     "timestamp": 1531999713067,
     "user": {
      "displayName": "전인아",
      "photoUrl": "//lh3.googleusercontent.com/-61ZAhyAQ1tI/AAAAAAAAAAI/AAAAAAAAAIs/f0doE-9P3hU/s50-c-k-no/photo.jpg",
      "userId": "102290275608340801889"
     },
     "user_tz": -540
    },
    "id": "tBKNMPVdSe7o",
    "outputId": "ccd5b0ee-85d3-4abf-f0c3-7481205b7c79"
   },
   "outputs": [
    {
     "data": {
      "text/plain": [
       "array([1, 1, 2, 3], dtype=int32)"
      ]
     },
     "execution_count": 7,
     "metadata": {},
     "output_type": "execute_result"
    }
   ],
   "source": [
    "t = tf.constant([[[[1,2,3],[3,4,5]]]])\n",
    "tf.shape(t).eval(session=sess)"
   ]
  },
  {
   "cell_type": "code",
   "execution_count": 8,
   "metadata": {
    "colab": {
     "autoexec": {
      "startup": false,
      "wait_interval": 0
     },
     "base_uri": "https://localhost:8080/",
     "height": 85
    },
    "colab_type": "code",
    "executionInfo": {
     "elapsed": 600,
     "status": "ok",
     "timestamp": 1531999740748,
     "user": {
      "displayName": "전인아",
      "photoUrl": "//lh3.googleusercontent.com/-61ZAhyAQ1tI/AAAAAAAAAAI/AAAAAAAAAIs/f0doE-9P3hU/s50-c-k-no/photo.jpg",
      "userId": "102290275608340801889"
     },
     "user_tz": -540
    },
    "id": "gDPwftmPSk5G",
    "outputId": "7bf1c667-3aba-4542-9053-a17efb64ab85"
   },
   "outputs": [
    {
     "name": "stdout",
     "output_type": "stream",
     "text": [
      "(2, 2)\n",
      "(2, 1)\n"
     ]
    },
    {
     "data": {
      "text/plain": [
       "array([[ 5.],\n",
       "       [11.]], dtype=float32)"
      ]
     },
     "execution_count": 8,
     "metadata": {},
     "output_type": "execute_result"
    }
   ],
   "source": [
    "matrix1 = tf.constant([[1., 2.], [3., 4.]])\n",
    "matrix2 = tf.constant([[1.], [2.]])\n",
    "print(matrix1.shape)\n",
    "print(matrix2.shape)\n",
    "tf.matmul(matrix1, matrix2).eval(session=sess)"
   ]
  },
  {
   "cell_type": "code",
   "execution_count": 9,
   "metadata": {
    "colab": {
     "autoexec": {
      "startup": false,
      "wait_interval": 0
     },
     "base_uri": "https://localhost:8080/",
     "height": 51
    },
    "colab_type": "code",
    "executionInfo": {
     "elapsed": 1092,
     "status": "ok",
     "timestamp": 1531999742897,
     "user": {
      "displayName": "전인아",
      "photoUrl": "//lh3.googleusercontent.com/-61ZAhyAQ1tI/AAAAAAAAAAI/AAAAAAAAAIs/f0doE-9P3hU/s50-c-k-no/photo.jpg",
      "userId": "102290275608340801889"
     },
     "user_tz": -540
    },
    "id": "powdPVeGTItc",
    "outputId": "0906ebb7-d1dd-4514-ac85-66b03d931658"
   },
   "outputs": [
    {
     "data": {
      "text/plain": [
       "array([[1., 2.],\n",
       "       [6., 8.]], dtype=float32)"
      ]
     },
     "execution_count": 9,
     "metadata": {},
     "output_type": "execute_result"
    }
   ],
   "source": [
    "(matrix1 * matrix2).eval(session=sess)"
   ]
  },
  {
   "cell_type": "code",
   "execution_count": 10,
   "metadata": {
    "colab": {
     "autoexec": {
      "startup": false,
      "wait_interval": 0
     },
     "base_uri": "https://localhost:8080/",
     "height": 34
    },
    "colab_type": "code",
    "executionInfo": {
     "elapsed": 638,
     "status": "ok",
     "timestamp": 1531999812930,
     "user": {
      "displayName": "전인아",
      "photoUrl": "//lh3.googleusercontent.com/-61ZAhyAQ1tI/AAAAAAAAAAI/AAAAAAAAAIs/f0doE-9P3hU/s50-c-k-no/photo.jpg",
      "userId": "102290275608340801889"
     },
     "user_tz": -540
    },
    "id": "8MbxpS4tTOt9",
    "outputId": "b5c61251-e19d-43f8-dfcd-9904ad283f98"
   },
   "outputs": [
    {
     "data": {
      "text/plain": [
       "array([[5., 5.]], dtype=float32)"
      ]
     },
     "execution_count": 10,
     "metadata": {},
     "output_type": "execute_result"
    }
   ],
   "source": [
    "matrix1 = tf.constant([[3., 3.]])\n",
    "matrix2 = tf.constant([[2., 2.]])\n",
    "(matrix1 + matrix2).eval(session=sess)"
   ]
  },
  {
   "cell_type": "code",
   "execution_count": 11,
   "metadata": {
    "colab": {
     "autoexec": {
      "startup": false,
      "wait_interval": 0
     },
     "base_uri": "https://localhost:8080/",
     "height": 34
    },
    "colab_type": "code",
    "executionInfo": {
     "elapsed": 650,
     "status": "ok",
     "timestamp": 1531999966715,
     "user": {
      "displayName": "전인아",
      "photoUrl": "//lh3.googleusercontent.com/-61ZAhyAQ1tI/AAAAAAAAAAI/AAAAAAAAAIs/f0doE-9P3hU/s50-c-k-no/photo.jpg",
      "userId": "102290275608340801889"
     },
     "user_tz": -540
    },
    "id": "DVLoo21wTgkh",
    "outputId": "c34414b4-333c-42ed-e9e2-d97604defbc8"
   },
   "outputs": [
    {
     "data": {
      "text/plain": [
       "1"
      ]
     },
     "execution_count": 11,
     "metadata": {},
     "output_type": "execute_result"
    }
   ],
   "source": [
    "tf.reduce_mean([1, 2], axis=0).eval(session=sess)"
   ]
  },
  {
   "cell_type": "code",
   "execution_count": 12,
   "metadata": {
    "colab": {
     "autoexec": {
      "startup": false,
      "wait_interval": 0
     },
     "base_uri": "https://localhost:8080/",
     "height": 34
    },
    "colab_type": "code",
    "executionInfo": {
     "elapsed": 619,
     "status": "ok",
     "timestamp": 1531999991356,
     "user": {
      "displayName": "전인아",
      "photoUrl": "//lh3.googleusercontent.com/-61ZAhyAQ1tI/AAAAAAAAAAI/AAAAAAAAAIs/f0doE-9P3hU/s50-c-k-no/photo.jpg",
      "userId": "102290275608340801889"
     },
     "user_tz": -540
    },
    "id": "-b4UTddQTbgg",
    "outputId": "334b1161-5432-47e7-efc2-630751107f73"
   },
   "outputs": [
    {
     "data": {
      "text/plain": [
       "2.5"
      ]
     },
     "execution_count": 12,
     "metadata": {},
     "output_type": "execute_result"
    }
   ],
   "source": [
    "x = [\n",
    "    [1., 2.], \n",
    "    [3., 4.]\n",
    "]\n",
    "tf.reduce_mean(x).eval(session=sess)"
   ]
  },
  {
   "cell_type": "code",
   "execution_count": 13,
   "metadata": {
    "colab": {
     "autoexec": {
      "startup": false,
      "wait_interval": 0
     },
     "base_uri": "https://localhost:8080/",
     "height": 34
    },
    "colab_type": "code",
    "executionInfo": {
     "elapsed": 623,
     "status": "ok",
     "timestamp": 1532000022118,
     "user": {
      "displayName": "전인아",
      "photoUrl": "//lh3.googleusercontent.com/-61ZAhyAQ1tI/AAAAAAAAAAI/AAAAAAAAAIs/f0doE-9P3hU/s50-c-k-no/photo.jpg",
      "userId": "102290275608340801889"
     },
     "user_tz": -540
    },
    "id": "xG79ujV0UMl8",
    "outputId": "cd8b27a3-4005-478d-d81f-17c0b54c46f6"
   },
   "outputs": [
    {
     "data": {
      "text/plain": [
       "array([2., 3.], dtype=float32)"
      ]
     },
     "execution_count": 13,
     "metadata": {},
     "output_type": "execute_result"
    }
   ],
   "source": [
    "tf.reduce_mean(x, axis=0).eval(session=sess)"
   ]
  },
  {
   "cell_type": "code",
   "execution_count": 14,
   "metadata": {
    "colab": {
     "autoexec": {
      "startup": false,
      "wait_interval": 0
     },
     "base_uri": "https://localhost:8080/",
     "height": 34
    },
    "colab_type": "code",
    "executionInfo": {
     "elapsed": 467,
     "status": "ok",
     "timestamp": 1532000018523,
     "user": {
      "displayName": "전인아",
      "photoUrl": "//lh3.googleusercontent.com/-61ZAhyAQ1tI/AAAAAAAAAAI/AAAAAAAAAIs/f0doE-9P3hU/s50-c-k-no/photo.jpg",
      "userId": "102290275608340801889"
     },
     "user_tz": -540
    },
    "id": "nNcCzKAzURWe",
    "outputId": "e873fb72-0082-4e9d-a88d-07a756a62524"
   },
   "outputs": [
    {
     "data": {
      "text/plain": [
       "array([1.5, 3.5], dtype=float32)"
      ]
     },
     "execution_count": 14,
     "metadata": {},
     "output_type": "execute_result"
    }
   ],
   "source": [
    "tf.reduce_mean(x, axis=-1).eval(session=sess)"
   ]
  },
  {
   "cell_type": "code",
   "execution_count": 15,
   "metadata": {
    "colab": {
     "autoexec": {
      "startup": false,
      "wait_interval": 0
     },
     "base_uri": "https://localhost:8080/",
     "height": 34
    },
    "colab_type": "code",
    "executionInfo": {
     "elapsed": 647,
     "status": "ok",
     "timestamp": 1532000038464,
     "user": {
      "displayName": "전인아",
      "photoUrl": "//lh3.googleusercontent.com/-61ZAhyAQ1tI/AAAAAAAAAAI/AAAAAAAAAIs/f0doE-9P3hU/s50-c-k-no/photo.jpg",
      "userId": "102290275608340801889"
     },
     "user_tz": -540
    },
    "id": "Sm_8pSGLUTPn",
    "outputId": "1eb86fa9-66f8-474f-e15d-fffc85e16bc6"
   },
   "outputs": [
    {
     "data": {
      "text/plain": [
       "array([3., 7.], dtype=float32)"
      ]
     },
     "execution_count": 15,
     "metadata": {},
     "output_type": "execute_result"
    }
   ],
   "source": [
    "tf.reduce_sum(x, axis=1).eval(session=sess)"
   ]
  },
  {
   "cell_type": "code",
   "execution_count": 16,
   "metadata": {
    "colab": {
     "autoexec": {
      "startup": false,
      "wait_interval": 0
     },
     "base_uri": "https://localhost:8080/",
     "height": 34
    },
    "colab_type": "code",
    "executionInfo": {
     "elapsed": 652,
     "status": "ok",
     "timestamp": 1532000044363,
     "user": {
      "displayName": "전인아",
      "photoUrl": "//lh3.googleusercontent.com/-61ZAhyAQ1tI/AAAAAAAAAAI/AAAAAAAAAIs/f0doE-9P3hU/s50-c-k-no/photo.jpg",
      "userId": "102290275608340801889"
     },
     "user_tz": -540
    },
    "id": "qiWprMj2UXVA",
    "outputId": "12887dba-3918-411e-ce7c-48a3b291bb58"
   },
   "outputs": [
    {
     "data": {
      "text/plain": [
       "array([4., 6.], dtype=float32)"
      ]
     },
     "execution_count": 16,
     "metadata": {},
     "output_type": "execute_result"
    }
   ],
   "source": [
    "tf.reduce_sum(x, axis=0).eval(session=sess)"
   ]
  },
  {
   "cell_type": "code",
   "execution_count": 17,
   "metadata": {
    "colab": {
     "autoexec": {
      "startup": false,
      "wait_interval": 0
     },
     "base_uri": "https://localhost:8080/",
     "height": 34
    },
    "colab_type": "code",
    "executionInfo": {
     "elapsed": 606,
     "status": "ok",
     "timestamp": 1532000064697,
     "user": {
      "displayName": "전인아",
      "photoUrl": "//lh3.googleusercontent.com/-61ZAhyAQ1tI/AAAAAAAAAAI/AAAAAAAAAIs/f0doE-9P3hU/s50-c-k-no/photo.jpg",
      "userId": "102290275608340801889"
     },
     "user_tz": -540
    },
    "id": "mehVhjsFUY6a",
    "outputId": "fc8fd75a-c098-44ac-93bb-598de017a530"
   },
   "outputs": [
    {
     "data": {
      "text/plain": [
       "5.0"
      ]
     },
     "execution_count": 17,
     "metadata": {},
     "output_type": "execute_result"
    }
   ],
   "source": [
    "tf.reduce_mean(tf.reduce_sum(x, axis=0)).eval(session=sess)"
   ]
  },
  {
   "cell_type": "code",
   "execution_count": 18,
   "metadata": {
    "colab": {
     "autoexec": {
      "startup": false,
      "wait_interval": 0
     }
    },
    "colab_type": "code",
    "collapsed": true,
    "id": "MZuS-xl4UdwM"
   },
   "outputs": [],
   "source": [
    "x = [\n",
    "    [0, 1, 2],\n",
    "    [2, 1, 0]\n",
    "]"
   ]
  },
  {
   "cell_type": "code",
   "execution_count": 19,
   "metadata": {
    "colab": {
     "autoexec": {
      "startup": false,
      "wait_interval": 0
     },
     "base_uri": "https://localhost:8080/",
     "height": 34
    },
    "colab_type": "code",
    "executionInfo": {
     "elapsed": 615,
     "status": "ok",
     "timestamp": 1532000098452,
     "user": {
      "displayName": "전인아",
      "photoUrl": "//lh3.googleusercontent.com/-61ZAhyAQ1tI/AAAAAAAAAAI/AAAAAAAAAIs/f0doE-9P3hU/s50-c-k-no/photo.jpg",
      "userId": "102290275608340801889"
     },
     "user_tz": -540
    },
    "id": "GvOhkkkpUi-V",
    "outputId": "5b769233-2b03-4a97-b8ba-5bd38b909faf"
   },
   "outputs": [
    {
     "data": {
      "text/plain": [
       "array([1, 0, 0])"
      ]
     },
     "execution_count": 19,
     "metadata": {},
     "output_type": "execute_result"
    }
   ],
   "source": [
    "tf.argmax(x, axis=0).eval(session=sess)"
   ]
  },
  {
   "cell_type": "code",
   "execution_count": 20,
   "metadata": {
    "colab": {
     "autoexec": {
      "startup": false,
      "wait_interval": 0
     },
     "base_uri": "https://localhost:8080/",
     "height": 34
    },
    "colab_type": "code",
    "executionInfo": {
     "elapsed": 627,
     "status": "ok",
     "timestamp": 1532000103525,
     "user": {
      "displayName": "전인아",
      "photoUrl": "//lh3.googleusercontent.com/-61ZAhyAQ1tI/AAAAAAAAAAI/AAAAAAAAAIs/f0doE-9P3hU/s50-c-k-no/photo.jpg",
      "userId": "102290275608340801889"
     },
     "user_tz": -540
    },
    "id": "AlL6qE9MUmFV",
    "outputId": "d61ccbba-0ac4-45ce-fb31-33f14d14d56c"
   },
   "outputs": [
    {
     "data": {
      "text/plain": [
       "array([2, 0])"
      ]
     },
     "execution_count": 20,
     "metadata": {},
     "output_type": "execute_result"
    }
   ],
   "source": [
    "tf.argmax(x, axis=1).eval(session=sess)"
   ]
  },
  {
   "cell_type": "code",
   "execution_count": 21,
   "metadata": {
    "colab": {
     "autoexec": {
      "startup": false,
      "wait_interval": 0
     },
     "base_uri": "https://localhost:8080/",
     "height": 34
    },
    "colab_type": "code",
    "executionInfo": {
     "elapsed": 641,
     "status": "ok",
     "timestamp": 1532000110115,
     "user": {
      "displayName": "전인아",
      "photoUrl": "//lh3.googleusercontent.com/-61ZAhyAQ1tI/AAAAAAAAAAI/AAAAAAAAAIs/f0doE-9P3hU/s50-c-k-no/photo.jpg",
      "userId": "102290275608340801889"
     },
     "user_tz": -540
    },
    "id": "26Q1p7sHUnE_",
    "outputId": "358c1c53-cca1-48c2-fa72-d9dd5f7b5ea5"
   },
   "outputs": [
    {
     "data": {
      "text/plain": [
       "array([2, 0])"
      ]
     },
     "execution_count": 21,
     "metadata": {},
     "output_type": "execute_result"
    }
   ],
   "source": [
    "tf.argmax(x, axis=-1).eval(session=sess)"
   ]
  },
  {
   "cell_type": "code",
   "execution_count": 22,
   "metadata": {
    "colab": {
     "autoexec": {
      "startup": false,
      "wait_interval": 0
     },
     "base_uri": "https://localhost:8080/",
     "height": 34
    },
    "colab_type": "code",
    "executionInfo": {
     "elapsed": 638,
     "status": "ok",
     "timestamp": 1532000149903,
     "user": {
      "displayName": "전인아",
      "photoUrl": "//lh3.googleusercontent.com/-61ZAhyAQ1tI/AAAAAAAAAAI/AAAAAAAAAIs/f0doE-9P3hU/s50-c-k-no/photo.jpg",
      "userId": "102290275608340801889"
     },
     "user_tz": -540
    },
    "id": "PTSNwp3_Up2f",
    "outputId": "29db64d7-611d-4712-a814-82be28544b8e"
   },
   "outputs": [
    {
     "data": {
      "text/plain": [
       "(2, 2, 3)"
      ]
     },
     "execution_count": 22,
     "metadata": {},
     "output_type": "execute_result"
    }
   ],
   "source": [
    "t = np.array(\n",
    "  [[[0, 1, 2], [3,4,5]], [[6, 7,8], [9, 10 ,11]]]\n",
    ")\n",
    "t.shape"
   ]
  },
  {
   "cell_type": "code",
   "execution_count": 23,
   "metadata": {
    "colab": {
     "autoexec": {
      "startup": false,
      "wait_interval": 0
     },
     "base_uri": "https://localhost:8080/",
     "height": 85
    },
    "colab_type": "code",
    "executionInfo": {
     "elapsed": 616,
     "status": "ok",
     "timestamp": 1532000181891,
     "user": {
      "displayName": "전인아",
      "photoUrl": "//lh3.googleusercontent.com/-61ZAhyAQ1tI/AAAAAAAAAAI/AAAAAAAAAIs/f0doE-9P3hU/s50-c-k-no/photo.jpg",
      "userId": "102290275608340801889"
     },
     "user_tz": -540
    },
    "id": "iDS-8v6TUysK",
    "outputId": "07b36cfc-61d0-4f9a-d7d7-89bb70e3a849"
   },
   "outputs": [
    {
     "data": {
      "text/plain": [
       "array([[ 0,  1,  2],\n",
       "       [ 3,  4,  5],\n",
       "       [ 6,  7,  8],\n",
       "       [ 9, 10, 11]])"
      ]
     },
     "execution_count": 23,
     "metadata": {},
     "output_type": "execute_result"
    }
   ],
   "source": [
    "tf.reshape(t, shape=[-1, 3]).eval(session=sess)"
   ]
  },
  {
   "cell_type": "code",
   "execution_count": 24,
   "metadata": {
    "colab": {
     "autoexec": {
      "startup": false,
      "wait_interval": 0
     },
     "base_uri": "https://localhost:8080/",
     "height": 68
    },
    "colab_type": "code",
    "executionInfo": {
     "elapsed": 606,
     "status": "ok",
     "timestamp": 1532000206404,
     "user": {
      "displayName": "전인아",
      "photoUrl": "//lh3.googleusercontent.com/-61ZAhyAQ1tI/AAAAAAAAAAI/AAAAAAAAAIs/f0doE-9P3hU/s50-c-k-no/photo.jpg",
      "userId": "102290275608340801889"
     },
     "user_tz": -540
    },
    "id": "5ff8b6r_U6M1",
    "outputId": "23c98cac-2ac0-4bec-e173-8194d9a8011b"
   },
   "outputs": [
    {
     "data": {
      "text/plain": [
       "array([[ 0,  1,  2,  3],\n",
       "       [ 4,  5,  6,  7],\n",
       "       [ 8,  9, 10, 11]])"
      ]
     },
     "execution_count": 24,
     "metadata": {},
     "output_type": "execute_result"
    }
   ],
   "source": [
    "tf.reshape(t, shape=[-1, 4]).eval(session=sess)"
   ]
  },
  {
   "cell_type": "code",
   "execution_count": 25,
   "metadata": {
    "colab": {
     "autoexec": {
      "startup": false,
      "wait_interval": 0
     },
     "base_uri": "https://localhost:8080/",
     "height": 34
    },
    "colab_type": "code",
    "executionInfo": {
     "elapsed": 629,
     "status": "ok",
     "timestamp": 1532000241531,
     "user": {
      "displayName": "전인아",
      "photoUrl": "//lh3.googleusercontent.com/-61ZAhyAQ1tI/AAAAAAAAAAI/AAAAAAAAAIs/f0doE-9P3hU/s50-c-k-no/photo.jpg",
      "userId": "102290275608340801889"
     },
     "user_tz": -540
    },
    "id": "iFwAn7eIVCiY",
    "outputId": "1267e129-c989-4a9a-e36a-fcb223336a39"
   },
   "outputs": [
    {
     "data": {
      "text/plain": [
       "array([0, 1, 2], dtype=int32)"
      ]
     },
     "execution_count": 25,
     "metadata": {},
     "output_type": "execute_result"
    }
   ],
   "source": [
    "tf.squeeze([[0], [1], [2]]).eval(session=sess)"
   ]
  },
  {
   "cell_type": "code",
   "execution_count": 26,
   "metadata": {
    "colab": {
     "autoexec": {
      "startup": false,
      "wait_interval": 0
     },
     "base_uri": "https://localhost:8080/",
     "height": 102
    },
    "colab_type": "code",
    "executionInfo": {
     "elapsed": 620,
     "status": "ok",
     "timestamp": 1532000297298,
     "user": {
      "displayName": "전인아",
      "photoUrl": "//lh3.googleusercontent.com/-61ZAhyAQ1tI/AAAAAAAAAAI/AAAAAAAAAIs/f0doE-9P3hU/s50-c-k-no/photo.jpg",
      "userId": "102290275608340801889"
     },
     "user_tz": -540
    },
    "id": "QTgN-bC_VJWu",
    "outputId": "9ccb66d5-a3c2-4384-c381-02f3a63befd0"
   },
   "outputs": [
    {
     "data": {
      "text/plain": [
       "array([[[0]],\n",
       "\n",
       "       [[1]],\n",
       "\n",
       "       [[2]]], dtype=int32)"
      ]
     },
     "execution_count": 26,
     "metadata": {},
     "output_type": "execute_result"
    }
   ],
   "source": [
    "tf.expand_dims([[0], [1], [2]], 1).eval(session=sess)"
   ]
  },
  {
   "cell_type": "code",
   "execution_count": 27,
   "metadata": {
    "colab": {
     "autoexec": {
      "startup": false,
      "wait_interval": 0
     },
     "base_uri": "https://localhost:8080/",
     "height": 136
    },
    "colab_type": "code",
    "executionInfo": {
     "elapsed": 650,
     "status": "ok",
     "timestamp": 1532000342734,
     "user": {
      "displayName": "전인아",
      "photoUrl": "//lh3.googleusercontent.com/-61ZAhyAQ1tI/AAAAAAAAAAI/AAAAAAAAAIs/f0doE-9P3hU/s50-c-k-no/photo.jpg",
      "userId": "102290275608340801889"
     },
     "user_tz": -540
    },
    "id": "TL1_bIj_VWe-",
    "outputId": "484ee589-5cb9-42f7-dbe4-668d75c60fcc"
   },
   "outputs": [
    {
     "data": {
      "text/plain": [
       "array([[[1., 0., 0., 0., 0., 0., 0., 0., 0., 0.]],\n",
       "\n",
       "       [[0., 1., 0., 0., 0., 0., 0., 0., 0., 0.]],\n",
       "\n",
       "       [[0., 0., 1., 0., 0., 0., 0., 0., 0., 0.]],\n",
       "\n",
       "       [[1., 0., 0., 0., 0., 0., 0., 0., 0., 0.]]], dtype=float32)"
      ]
     },
     "execution_count": 27,
     "metadata": {},
     "output_type": "execute_result"
    }
   ],
   "source": [
    "tf.one_hot([[0], [1], [2], [0]], depth=10).eval(session=sess)"
   ]
  },
  {
   "cell_type": "code",
   "execution_count": 28,
   "metadata": {
    "colab": {
     "autoexec": {
      "startup": false,
      "wait_interval": 0
     },
     "base_uri": "https://localhost:8080/",
     "height": 357
    },
    "colab_type": "code",
    "executionInfo": {
     "elapsed": 635,
     "status": "ok",
     "timestamp": 1532000380220,
     "user": {
      "displayName": "전인아",
      "photoUrl": "//lh3.googleusercontent.com/-61ZAhyAQ1tI/AAAAAAAAAAI/AAAAAAAAAIs/f0doE-9P3hU/s50-c-k-no/photo.jpg",
      "userId": "102290275608340801889"
     },
     "user_tz": -540
    },
    "id": "BMv3hbdjViyX",
    "outputId": "204e736e-1138-4d9a-f0c9-ce0793261179"
   },
   "outputs": [
    {
     "data": {
      "text/plain": [
       "array([[1., 0.],\n",
       "       [0., 0.],\n",
       "       [0., 0.],\n",
       "       [0., 0.],\n",
       "       [0., 0.],\n",
       "       [0., 1.],\n",
       "       [0., 0.],\n",
       "       [0., 0.],\n",
       "       [0., 0.],\n",
       "       [0., 0.],\n",
       "       [0., 0.],\n",
       "       [1., 0.],\n",
       "       [0., 0.],\n",
       "       [0., 0.],\n",
       "       [0., 0.],\n",
       "       [1., 0.],\n",
       "       [0., 0.],\n",
       "       [0., 0.],\n",
       "       [0., 0.],\n",
       "       [0., 0.]], dtype=float32)"
      ]
     },
     "execution_count": 28,
     "metadata": {},
     "output_type": "execute_result"
    }
   ],
   "source": [
    "t = tf.one_hot([[0], [1], [2], [0]], depth=10).eval(session=sess)\n",
    "tf.reshape(t, shape=[-1, 2]).eval(session=sess)"
   ]
  },
  {
   "cell_type": "code",
   "execution_count": 29,
   "metadata": {
    "colab": {
     "autoexec": {
      "startup": false,
      "wait_interval": 0
     },
     "base_uri": "https://localhost:8080/",
     "height": 34
    },
    "colab_type": "code",
    "executionInfo": {
     "elapsed": 615,
     "status": "ok",
     "timestamp": 1532000421627,
     "user": {
      "displayName": "전인아",
      "photoUrl": "//lh3.googleusercontent.com/-61ZAhyAQ1tI/AAAAAAAAAAI/AAAAAAAAAIs/f0doE-9P3hU/s50-c-k-no/photo.jpg",
      "userId": "102290275608340801889"
     },
     "user_tz": -540
    },
    "id": "GmUMcmPwVrsv",
    "outputId": "7fd3f8a1-9948-49f9-c596-d6d4b0874d43"
   },
   "outputs": [
    {
     "data": {
      "text/plain": [
       "array([1, 0], dtype=int32)"
      ]
     },
     "execution_count": 29,
     "metadata": {},
     "output_type": "execute_result"
    }
   ],
   "source": [
    "tf.cast([True, False], tf.int32).eval(session=sess)"
   ]
  },
  {
   "cell_type": "code",
   "execution_count": 30,
   "metadata": {
    "colab": {
     "autoexec": {
      "startup": false,
      "wait_interval": 0
     }
    },
    "colab_type": "code",
    "collapsed": true,
    "id": "1bGe9B6CV0-P"
   },
   "outputs": [],
   "source": [
    "x = y = z = [1 ,4]"
   ]
  },
  {
   "cell_type": "code",
   "execution_count": 31,
   "metadata": {
    "colab": {
     "autoexec": {
      "startup": false,
      "wait_interval": 0
     },
     "base_uri": "https://localhost:8080/",
     "height": 51
    },
    "colab_type": "code",
    "executionInfo": {
     "elapsed": 613,
     "status": "ok",
     "timestamp": 1532000472171,
     "user": {
      "displayName": "전인아",
      "photoUrl": "//lh3.googleusercontent.com/-61ZAhyAQ1tI/AAAAAAAAAAI/AAAAAAAAAIs/f0doE-9P3hU/s50-c-k-no/photo.jpg",
      "userId": "102290275608340801889"
     },
     "user_tz": -540
    },
    "id": "4Gw6z8LMV6c-",
    "outputId": "0fa6a0ca-3628-4eaf-9fda-20620a201f39"
   },
   "outputs": [
    {
     "data": {
      "text/plain": [
       "array([[1, 1, 1],\n",
       "       [4, 4, 4]], dtype=int32)"
      ]
     },
     "execution_count": 31,
     "metadata": {},
     "output_type": "execute_result"
    }
   ],
   "source": [
    "tf.stack([x, y, z], axis=1).eval(session=sess)"
   ]
  },
  {
   "cell_type": "code",
   "execution_count": 32,
   "metadata": {
    "colab": {
     "autoexec": {
      "startup": false,
      "wait_interval": 0
     },
     "base_uri": "https://localhost:8080/",
     "height": 51
    },
    "colab_type": "code",
    "executionInfo": {
     "elapsed": 723,
     "status": "ok",
     "timestamp": 1532000502895,
     "user": {
      "displayName": "전인아",
      "photoUrl": "//lh3.googleusercontent.com/-61ZAhyAQ1tI/AAAAAAAAAAI/AAAAAAAAAIs/f0doE-9P3hU/s50-c-k-no/photo.jpg",
      "userId": "102290275608340801889"
     },
     "user_tz": -540
    },
    "id": "awIuOf9UWCIH",
    "outputId": "d3ccbd5c-8a56-4bc9-8da1-816fa5a6fb88"
   },
   "outputs": [
    {
     "data": {
      "text/plain": [
       "array([[1, 1, 1],\n",
       "       [1, 1, 1]], dtype=int32)"
      ]
     },
     "execution_count": 32,
     "metadata": {},
     "output_type": "execute_result"
    }
   ],
   "source": [
    "x = [[0, 1, 2], [2, 1, 0]]\n",
    "tf.ones_like(x).eval(session=sess)"
   ]
  },
  {
   "cell_type": "code",
   "execution_count": 33,
   "metadata": {
    "colab": {
     "autoexec": {
      "startup": false,
      "wait_interval": 0
     },
     "base_uri": "https://localhost:8080/",
     "height": 51
    },
    "colab_type": "code",
    "executionInfo": {
     "elapsed": 640,
     "status": "ok",
     "timestamp": 1532000510112,
     "user": {
      "displayName": "전인아",
      "photoUrl": "//lh3.googleusercontent.com/-61ZAhyAQ1tI/AAAAAAAAAAI/AAAAAAAAAIs/f0doE-9P3hU/s50-c-k-no/photo.jpg",
      "userId": "102290275608340801889"
     },
     "user_tz": -540
    },
    "id": "fGOxJqS5WI33",
    "outputId": "0dadc49b-6bcd-406e-96fd-4b00c698ad2d"
   },
   "outputs": [
    {
     "data": {
      "text/plain": [
       "array([[0, 0, 0],\n",
       "       [0, 0, 0]], dtype=int32)"
      ]
     },
     "execution_count": 33,
     "metadata": {},
     "output_type": "execute_result"
    }
   ],
   "source": [
    "tf.zeros_like(x).eval(session=sess)"
   ]
  },
  {
   "cell_type": "code",
   "execution_count": 34,
   "metadata": {
    "colab": {
     "autoexec": {
      "startup": false,
      "wait_interval": 0
     },
     "base_uri": "https://localhost:8080/",
     "height": 68
    },
    "colab_type": "code",
    "executionInfo": {
     "elapsed": 630,
     "status": "ok",
     "timestamp": 1532000533342,
     "user": {
      "displayName": "전인아",
      "photoUrl": "//lh3.googleusercontent.com/-61ZAhyAQ1tI/AAAAAAAAAAI/AAAAAAAAAIs/f0doE-9P3hU/s50-c-k-no/photo.jpg",
      "userId": "102290275608340801889"
     },
     "user_tz": -540
    },
    "id": "EeQWJcPnWLpa",
    "outputId": "28bf98fc-dc08-4967-ca15-96bd060cec5f"
   },
   "outputs": [
    {
     "name": "stdout",
     "output_type": "stream",
     "text": [
      "1 4\n",
      "2 5\n",
      "3 6\n"
     ]
    }
   ],
   "source": [
    "for x, y in zip([1,2,3], [4,5,6]):\n",
    "  print(x,y)"
   ]
  },
  {
   "cell_type": "code",
   "execution_count": null,
   "metadata": {
    "colab": {
     "autoexec": {
      "startup": false,
      "wait_interval": 0
     }
    },
    "colab_type": "code",
    "collapsed": true,
    "id": "EwmDcXSMWQfr"
   },
   "outputs": [],
   "source": []
  }
 ],
 "metadata": {
  "colab": {
   "default_view": {},
   "name": "Lab08-Tensor Manipulation.ipynb",
   "provenance": [],
   "version": "0.3.2",
   "views": {}
  },
  "kernelspec": {
   "display_name": "Python 3",
   "language": "python",
   "name": "python3"
  },
  "language_info": {
   "codemirror_mode": {
    "name": "ipython",
    "version": 3
   },
   "file_extension": ".py",
   "mimetype": "text/x-python",
   "name": "python",
   "nbconvert_exporter": "python",
   "pygments_lexer": "ipython3",
   "version": "3.6.5"
  }
 },
 "nbformat": 4,
 "nbformat_minor": 1
}
