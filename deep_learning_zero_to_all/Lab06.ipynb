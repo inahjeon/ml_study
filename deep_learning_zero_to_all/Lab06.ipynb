{
 "cells": [
  {
   "cell_type": "code",
   "execution_count": 1,
   "metadata": {
    "colab": {
     "autoexec": {
      "startup": false,
      "wait_interval": 0
     }
    },
    "colab_type": "code",
    "id": "j0IZYwrO2eES"
   },
   "outputs": [
    {
     "name": "stderr",
     "output_type": "stream",
     "text": [
      "/usr/local/lib/python3.6/site-packages/h5py/__init__.py:36: FutureWarning: Conversion of the second argument of issubdtype from `float` to `np.floating` is deprecated. In future, it will be treated as `np.float64 == np.dtype(float).type`.\n",
      "  from ._conv import register_converters as _register_converters\n"
     ]
    }
   ],
   "source": [
    "import tensorflow as tf"
   ]
  },
  {
   "cell_type": "code",
   "execution_count": 2,
   "metadata": {
    "colab": {
     "autoexec": {
      "startup": false,
      "wait_interval": 0
     }
    },
    "colab_type": "code",
    "collapsed": true,
    "id": "rVdQ2DRp7578"
   },
   "outputs": [],
   "source": [
    "x_data = [\n",
    "    [1, 2, 1, 1],\n",
    "    [2, 1, 3, 2],\n",
    "    [3, 1, 3, 4],\n",
    "    [4, 1, 5, 5],\n",
    "    [1, 7, 5, 5],\n",
    "    [1, 2, 5, 6],\n",
    "    [1, 6, 6, 6],\n",
    "    [1, 7, 7, 7]\n",
    "]\n",
    "y_data = [\n",
    "    [0, 0, 1],\n",
    "    [0, 0, 1],\n",
    "    [0, 0, 1],\n",
    "    [0, 1, 0],\n",
    "    [0, 1, 0],\n",
    "    [0, 1, 0],\n",
    "    [1, 0, 0],\n",
    "    [1, 0, 0]\n",
    "]\n",
    "X = tf.placeholder('float', [None, 4])\n",
    "Y = tf.placeholder('float', [None, 3])\n",
    "nb_classes = 3"
   ]
  },
  {
   "cell_type": "code",
   "execution_count": 3,
   "metadata": {
    "colab": {
     "autoexec": {
      "startup": false,
      "wait_interval": 0
     }
    },
    "colab_type": "code",
    "collapsed": true,
    "id": "AQW5BWmc78lE"
   },
   "outputs": [],
   "source": [
    "W = tf.Variable(tf.random_normal([4, nb_classes]), name='weight')\n",
    "b = tf.Variable(tf.random_normal([nb_classes]), name='bias')"
   ]
  },
  {
   "cell_type": "code",
   "execution_count": 4,
   "metadata": {
    "colab": {
     "autoexec": {
      "startup": false,
      "wait_interval": 0
     }
    },
    "colab_type": "code",
    "collapsed": true,
    "id": "yQTC55Ye8fBE"
   },
   "outputs": [],
   "source": [
    "hypothesis = tf.nn.softmax(tf.matmul(X, W) + b)"
   ]
  },
  {
   "cell_type": "code",
   "execution_count": 5,
   "metadata": {
    "colab": {
     "autoexec": {
      "startup": false,
      "wait_interval": 0
     }
    },
    "colab_type": "code",
    "collapsed": true,
    "id": "obXKXKkX8knK"
   },
   "outputs": [],
   "source": [
    "cost = tf.reduce_mean(-tf.reduce_sum(Y * tf.log(hypothesis), axis=1))\n",
    "optimizer = tf.train.GradientDescentOptimizer(learning_rate=0.1).minimize(cost)"
   ]
  },
  {
   "cell_type": "code",
   "execution_count": 6,
   "metadata": {
    "colab": {
     "autoexec": {
      "startup": false,
      "wait_interval": 0
     },
     "base_uri": "https://localhost:8080/",
     "height": 391
    },
    "colab_type": "code",
    "executionInfo": {
     "elapsed": 1431,
     "status": "ok",
     "timestamp": 1531307072858,
     "user": {
      "displayName": "전인아",
      "photoUrl": "//lh3.googleusercontent.com/-61ZAhyAQ1tI/AAAAAAAAAAI/AAAAAAAAAIs/f0doE-9P3hU/s50-c-k-no/photo.jpg",
      "userId": "102290275608340801889"
     },
     "user_tz": -540
    },
    "id": "JuOw-63o8zCx",
    "outputId": "6427d78d-f490-4b53-df34-62903f379c18"
   },
   "outputs": [
    {
     "name": "stdout",
     "output_type": "stream",
     "text": [
      "0 3.845457\n",
      "Tensor(\"Softmax:0\", shape=(?, 3), dtype=float32)\n",
      "200 0.6991348\n",
      "Tensor(\"Softmax:0\", shape=(?, 3), dtype=float32)\n",
      "400 0.56994396\n",
      "Tensor(\"Softmax:0\", shape=(?, 3), dtype=float32)\n",
      "600 0.47354913\n",
      "Tensor(\"Softmax:0\", shape=(?, 3), dtype=float32)\n",
      "800 0.38189358\n",
      "Tensor(\"Softmax:0\", shape=(?, 3), dtype=float32)\n",
      "1000 0.2912697\n",
      "Tensor(\"Softmax:0\", shape=(?, 3), dtype=float32)\n",
      "1200 0.2333847\n",
      "Tensor(\"Softmax:0\", shape=(?, 3), dtype=float32)\n",
      "1400 0.21174054\n",
      "Tensor(\"Softmax:0\", shape=(?, 3), dtype=float32)\n",
      "1600 0.19362725\n",
      "Tensor(\"Softmax:0\", shape=(?, 3), dtype=float32)\n",
      "1800 0.1782544\n",
      "Tensor(\"Softmax:0\", shape=(?, 3), dtype=float32)\n",
      "2000 0.16505565\n",
      "Tensor(\"Softmax:0\", shape=(?, 3), dtype=float32)\n"
     ]
    }
   ],
   "source": [
    "with tf.Session() as sess:\n",
    "  sess.run(tf.global_variables_initializer())\n",
    "  \n",
    "  for step in range(2001):\n",
    "    sess.run(optimizer, feed_dict={X: x_data, Y: y_data})\n",
    "#     a = sess.run(hypothesis, feed_dict={X: [[1, 11, 7, 9]]})\n",
    "    if step % 200 == 0:\n",
    "        print(step, sess.run(cost, feed_dict={X: x_data, Y: y_data}))\n",
    "        print(hypothesis)\n",
    "#         print(a, sess.run(tf.argmax(a, 1)))"
   ]
  }
 ],
 "metadata": {
  "colab": {
   "default_view": {},
   "name": "Lab06.ipynb",
   "provenance": [],
   "version": "0.3.2",
   "views": {}
  },
  "kernelspec": {
   "display_name": "Python 3",
   "language": "python",
   "name": "python3"
  },
  "language_info": {
   "codemirror_mode": {
    "name": "ipython",
    "version": 3
   },
   "file_extension": ".py",
   "mimetype": "text/x-python",
   "name": "python",
   "nbconvert_exporter": "python",
   "pygments_lexer": "ipython3",
   "version": "3.6.5"
  }
 },
 "nbformat": 4,
 "nbformat_minor": 1
}
